{
 "cells": [
  {
   "cell_type": "code",
   "execution_count": 37,
   "metadata": {},
   "outputs": [],
   "source": [
    "import torch\n",
    "import torch.nn as nn\n",
    "import torch.optim as optim\n",
    "import torch.nn.functional as F\n",
    "import numpy as np\n",
    "import random\n",
    "import os\n",
    "import glob\n",
    "import time\n",
    "import shutil\n",
    "import matplotlib \n",
    "import matplotlib.pyplot as plt\n",
    "%matplotlib inline\n",
    "\n",
    "from sklearn.model_selection import train_test_split\n",
    "from torchvision.datasets import ImageFolder\n",
    "from torch.utils.data import DataLoader\n",
    "from torchvision import transforms"
   ]
  },
  {
   "cell_type": "code",
   "execution_count": 57,
   "metadata": {},
   "outputs": [
    {
     "name": "stdout",
     "output_type": "stream",
     "text": [
      "cpu\n"
     ]
    }
   ],
   "source": [
    "DATA_FOLDER = './data'\n",
    "BATCH_SIZE = 4\n",
    "\n",
    "filenames = sorted(os.listdir(DATA_FOLDER))\n",
    "\n",
    "device = torch.device(\"cuda:0\" if torch.cuda.is_available() else \"cpu\")\n",
    "print(device)"
   ]
  },
  {
   "cell_type": "code",
   "execution_count": 50,
   "metadata": {},
   "outputs": [
    {
     "name": "stdout",
     "output_type": "stream",
     "text": [
      "1 гривня (зразка 2006 р)\n",
      "1 гривня (зразка 2006 р, зворотнiй бiк)\n",
      "2 гривнi (зразка 2004 р)\n",
      "2 гривнi (зразка 2004 р, зворотнiй бiк)\n",
      "5 гривень (зразка 2004 р)\n",
      "5 гривень (зразка 2004 р, зворотнiй бiк)\n",
      "10 гривень (зразка 2004 р)\n",
      "10 гривень (зразка 2004 р, зворотнiй бiк)\n",
      "20 гривень (зразка 2003 р)\n",
      "20 гривень (зразка 2003 р, зворотнiй бiк)\n",
      "50 гривень (зразка 2004 р)\n",
      "50 гривень (зразка 2004 р, зворотнiй бiк)\n",
      "100 гривень (зразка 2005 р)\n",
      "100 гривень (зразка 2005 р, зворотнiй бiк)\n",
      "200 гривень (зразка 2007 р)\n",
      "200 гривень (зразка 2007 р, зворотнiй бiк)\n",
      "500 гривень (зразка 2006 р)\n",
      "500 гривень (зразка 2006 р, зворотнiй бiк)\n",
      "1000 гривень (зразка 2019 р)\n",
      "1000 гривень (зразка 2019 р, зворотнiй бiк)\n",
      "500 гривень (зразка 2015 р)\n",
      "500 гривень (зразка 2015 р, зворотнiй бiк)\n",
      "100 гривень (зразка 2014 р)\n",
      "100 гривень (зразка 2014 р, зворотнiй бiк)\n",
      "20 гривень (зразка 2018 р)\n",
      "20 гривень (зразка 2018 р, зворотнiй бiк)\n",
      "50 гривень (зразка 2019 р)\n",
      "50 гривень (зразка 2019 р, зворотнiй бiк)\n",
      "200 гривень (зразка 2019 р)\n",
      "200 гривень (зразка 2019 р, зворотнiй бiк)\n",
      "100 доларів\n",
      "100 доларів (зворотнiй бiк)\n",
      "?\n"
     ]
    }
   ],
   "source": [
    "# Show labels of every class\n",
    "with open(os.path.join(DATA_FOLDER, 'labels.txt'), \"r\") as f:\n",
    "    classes_text = f.read()\n",
    "classes = classes_text.split('\\n')\n",
    "print(classes_text)"
   ]
  },
  {
   "cell_type": "code",
   "execution_count": 4,
   "metadata": {},
   "outputs": [
    {
     "name": "stdout",
     "output_type": "stream",
     "text": [
      "01-1a ./data/01-1a/tf-1565952431073.png\n"
     ]
    }
   ],
   "source": [
    "# Gathering paths of every image in dataset.\n",
    "data = []\n",
    "\n",
    "filenames = [fname for fname in filenames if fname != 'labels.txt']\n",
    "for fname in filenames:\n",
    "    images = glob.glob(os.path.join(DATA_FOLDER, fname, '*.png'))\n",
    "    data.append((fname, images))\n",
    "\n",
    "print(data[0][0], data[0][1][0])"
   ]
  },
  {
   "cell_type": "code",
   "execution_count": 5,
   "metadata": {},
   "outputs": [],
   "source": [
    "# Splitting all the images into train, dev, test sets.\n",
    "\n",
    "train_dir = './train'\n",
    "dev_dir = './dev'\n",
    "test_dir = './test'\n",
    "random.seed(42)\n",
    "\n",
    "if not os.path.isdir(train_dir) or not os.path.isdir(dev_dir) or not os.path.isdir(test_dir):\n",
    "\n",
    "    os.makedirs(train_dir, exist_ok=True)\n",
    "    os.makedirs(dev_dir, exist_ok=True)\n",
    "    os.makedirs(test_dir, exist_ok=True)\n",
    "    \n",
    "    for name, images in data:\n",
    "        os.makedirs(os.path.join(train_dir, name))\n",
    "        os.makedirs(os.path.join(dev_dir, name))\n",
    "        os.makedirs(os.path.join(test_dir, name))\n",
    "        \n",
    "        train_end = int(0.8 * len(images))\n",
    "        dev_end = int(0.9 * len(images))\n",
    "        \n",
    "        random.shuffle(images)\n",
    "        \n",
    "        train = images[:train_end]\n",
    "        dev = images[train_end:dev_end]\n",
    "        test = images[dev_end:]\n",
    "        \n",
    "        # Copy images into corresponding directories.\n",
    "        for image_dir, images_in_dir in zip([train_dir, dev_dir, test_dir], [train, dev, test]):\n",
    "            for image in images_in_dir:\n",
    "                dst = os.path.join(os.path.join(image_dir, name), os.path.basename(image))\n",
    "                shutil.copyfile(image, dst)"
   ]
  },
  {
   "cell_type": "code",
   "execution_count": 6,
   "metadata": {},
   "outputs": [
    {
     "name": "stdout",
     "output_type": "stream",
     "text": [
      "tensor([19, 21, 29,  6])\n"
     ]
    }
   ],
   "source": [
    "transf = transforms.Compose([transforms.Resize((224, 224)), transforms.ToTensor()])\n",
    "\n",
    "# Creating datasets for every folder.\n",
    "train_folder = ImageFolder(root=train_dir, transform=transf)\n",
    "dev_folder = ImageFolder(root=dev_dir, transform=transf)\n",
    "test_folder = ImageFolder(root=test_dir, transform=transf)\n",
    "\n",
    "# Creating loaders for every dataset.\n",
    "train_loader = DataLoader(train_folder, batch_size=BATCH_SIZE, shuffle=True)\n",
    "dev_loader = DataLoader(dev_folder, batch_size=BATCH_SIZE, shuffle=True)\n",
    "test_loader = DataLoader(test_folder, batch_size=BATCH_SIZE, shuffle=True)\n",
    "\n",
    "# Showing example of coded labels.\n",
    "images, labels = iter(train_loader).next()\n",
    "print(labels)"
   ]
  },
  {
   "cell_type": "code",
   "execution_count": 35,
   "metadata": {},
   "outputs": [],
   "source": [
    "# Simple convolution neural network (given by pytorch tutorial)\n",
    "\n",
    "class Baseline(nn.Module):\n",
    "    def __init__(self):\n",
    "        super(Baseline, self).__init__()\n",
    "        self.conv1 = nn.Conv2d(3, 6, kernel_size=5, padding=2)\n",
    "        self.pool = nn.MaxPool2d(2, 2)\n",
    "        self.conv2 = nn.Conv2d(6, 16, kernel_size=5, padding=2)\n",
    "        self.fc1 = nn.Linear(16 * 56 * 56, 120)\n",
    "        self.fc2 = nn.Linear(120, 84)\n",
    "        self.fc3 = nn.Linear(84, 33)\n",
    "\n",
    "    def forward(self, x):\n",
    "        x = self.pool(F.relu(self.conv1(x)))\n",
    "        x = self.pool(F.relu(self.conv2(x)))\n",
    "        x = x.view(-1, 16 * 56 * 56)\n",
    "        x = F.relu(self.fc1(x))\n",
    "        x = F.relu(self.fc2(x))\n",
    "        x = self.fc3(x)\n",
    "        return x\n",
    "\n",
    "baseline = Baseline()"
   ]
  },
  {
   "cell_type": "code",
   "execution_count": 36,
   "metadata": {},
   "outputs": [],
   "source": [
    "model = baseline  # Choose your fighter.\n",
    "model.to(device)  # For GPU\n",
    "\n",
    "criterion = nn.CrossEntropyLoss()\n",
    "optimizer = optim.SGD(model.parameters(), lr=0.001, momentum=0.9)"
   ]
  },
  {
   "cell_type": "code",
   "execution_count": 34,
   "metadata": {},
   "outputs": [
    {
     "name": "stdout",
     "output_type": "stream",
     "text": [
      "[1,  1000] loss: 1.703\n",
      "[2,  1000] loss: 0.765\n",
      "Finished Training\n"
     ]
    }
   ],
   "source": [
    "for epoch in range(20):  \n",
    "\n",
    "    running_loss = 0.0\n",
    "    for i, data in enumerate(train_loader, 0):\n",
    "        inputs, labels = data[0].to(device), data[1].to(device)\n",
    "\n",
    "        optimizer.zero_grad()\n",
    "\n",
    "        outputs = model(inputs)\n",
    "        loss = criterion(outputs, labels)\n",
    "        loss.backward()\n",
    "        optimizer.step()\n",
    "\n",
    "        # print statistics\n",
    "        running_loss += loss.item()\n",
    "        if i % 1000 == 999:\n",
    "            print('[%d, %5d] loss: %.3f' % (epoch + 1, i + 1, running_loss / 2000))\n",
    "            running_loss = 0.0\n",
    "\n",
    "print('Finished Training')"
   ]
  },
  {
   "cell_type": "markdown",
   "metadata": {},
   "source": [
    "### Saving trained model"
   ]
  },
  {
   "cell_type": "code",
   "execution_count": 43,
   "metadata": {},
   "outputs": [],
   "source": [
    "MODEL_PATH = './trained_models'\n",
    "os.makedirs(MODEL_PATH, exist_ok=True)\n",
    "str_time = time.strftime(\"%Y-%m-%d_%H:%M_model.pth\", time.gmtime())\n",
    "torch.save(model.state_dict(), os.path.join(MODEL_PATH, str_time))"
   ]
  },
  {
   "cell_type": "markdown",
   "metadata": {},
   "source": [
    "---"
   ]
  },
  {
   "cell_type": "markdown",
   "metadata": {},
   "source": [
    "### Loading saved model"
   ]
  },
  {
   "cell_type": "code",
   "execution_count": 58,
   "metadata": {},
   "outputs": [
    {
     "data": {
      "text/plain": [
       "<All keys matched successfully>"
      ]
     },
     "execution_count": 58,
     "metadata": {},
     "output_type": "execute_result"
    }
   ],
   "source": [
    "model = Baseline()\n",
    "model.to(device)  # For GPU\n",
    "model.load_state_dict(torch.load(os.path.join(MODEL_PATH, str_time)))"
   ]
  },
  {
   "cell_type": "code",
   "execution_count": 59,
   "metadata": {},
   "outputs": [
    {
     "name": "stdout",
     "output_type": "stream",
     "text": [
      "Accuracy on the dev images: 2 %\n"
     ]
    }
   ],
   "source": [
    "# Testing accuracy\n",
    "\n",
    "correct = 0\n",
    "total = 0\n",
    "with torch.no_grad():\n",
    "    for data in dev_loader:\n",
    "        images, labels = data[0].to(device), data[1].to(device)  # For GPU\n",
    "        outputs = model(images)\n",
    "        _, predicted = torch.max(outputs.data, 1)\n",
    "        total += labels.size(0)\n",
    "        correct += (predicted == labels).sum().item()\n",
    "\n",
    "print('Accuracy on the dev images: %d %%' % (100 * correct / total))"
   ]
  },
  {
   "cell_type": "code",
   "execution_count": 56,
   "metadata": {},
   "outputs": [
    {
     "name": "stdout",
     "output_type": "stream",
     "text": [
      "Accuracy of                    1 гривня (зразка 2006 р) :  0 %\n",
      "Accuracy of     1 гривня (зразка 2006 р, зворотнiй бiк) :  0 %\n",
      "Accuracy of                    2 гривнi (зразка 2004 р) :  0 %\n",
      "Accuracy of     2 гривнi (зразка 2004 р, зворотнiй бiк) :  0 %\n",
      "Accuracy of                   5 гривень (зразка 2004 р) :  0 %\n",
      "Accuracy of    5 гривень (зразка 2004 р, зворотнiй бiк) :  0 %\n",
      "Accuracy of                  10 гривень (зразка 2004 р) :  0 %\n",
      "Accuracy of   10 гривень (зразка 2004 р, зворотнiй бiк) :  0 %\n",
      "Accuracy of                  20 гривень (зразка 2003 р) :  0 %\n",
      "Accuracy of   20 гривень (зразка 2003 р, зворотнiй бiк) :  0 %\n",
      "Accuracy of                  50 гривень (зразка 2004 р) :  0 %\n",
      "Accuracy of   50 гривень (зразка 2004 р, зворотнiй бiк) :  0 %\n",
      "Accuracy of                 100 гривень (зразка 2005 р) :  0 %\n",
      "Accuracy of  100 гривень (зразка 2005 р, зворотнiй бiк) :  0 %\n",
      "Accuracy of                 200 гривень (зразка 2007 р) :  0 %\n",
      "Accuracy of  200 гривень (зразка 2007 р, зворотнiй бiк) :  0 %\n",
      "Accuracy of                 500 гривень (зразка 2006 р) :  0 %\n",
      "Accuracy of  500 гривень (зразка 2006 р, зворотнiй бiк) :  0 %\n",
      "Accuracy of                1000 гривень (зразка 2019 р) :  0 %\n",
      "Accuracy of 1000 гривень (зразка 2019 р, зворотнiй бiк) :  0 %\n",
      "Accuracy of                 500 гривень (зразка 2015 р) :  0 %\n",
      "Accuracy of  500 гривень (зразка 2015 р, зворотнiй бiк) :  0 %\n",
      "Accuracy of                 100 гривень (зразка 2014 р) :  0 %\n",
      "Accuracy of  100 гривень (зразка 2014 р, зворотнiй бiк) : 100 %\n",
      "Accuracy of                  20 гривень (зразка 2018 р) :  0 %\n",
      "Accuracy of   20 гривень (зразка 2018 р, зворотнiй бiк) :  0 %\n",
      "Accuracy of                  50 гривень (зразка 2019 р) :  0 %\n",
      "Accuracy of   50 гривень (зразка 2019 р, зворотнiй бiк) :  0 %\n",
      "Accuracy of                 200 гривень (зразка 2019 р) :  0 %\n",
      "Accuracy of  200 гривень (зразка 2019 р, зворотнiй бiк) :  0 %\n",
      "Accuracy of                                 100 доларів :  0 %\n",
      "Accuracy of                 100 доларів (зворотнiй бiк) :  0 %\n",
      "Accuracy of                                           ? :  0 %\n"
     ]
    }
   ],
   "source": [
    "# Testing accuracy for each class\n",
    "\n",
    "class_correct = [0.0 for i in range(33)]\n",
    "class_total = [0.0 for i in range(33)]\n",
    "with torch.no_grad():\n",
    "    for data in dev_loader:\n",
    "        images, labels = data[0].to(device), data[1].to(device)  # For GPU\n",
    "        outputs = model(images)\n",
    "        _, predicted = torch.max(outputs, 1)\n",
    "        c = (predicted == labels).squeeze()\n",
    "        for i in range(BATCH_SIZE):\n",
    "            label = labels[i]\n",
    "            class_correct[label] += c[i].item()\n",
    "            class_total[label] += 1\n",
    "\n",
    "\n",
    "for i in range(33):\n",
    "    print('Accuracy of %43s : %2d %%' % (classes[i], 100 * class_correct[i] / class_total[i]))"
   ]
  },
  {
   "cell_type": "code",
   "execution_count": null,
   "metadata": {},
   "outputs": [],
   "source": []
  }
 ],
 "metadata": {
  "kernelspec": {
   "display_name": "Python 3",
   "language": "python",
   "name": "python3"
  },
  "language_info": {
   "codemirror_mode": {
    "name": "ipython",
    "version": 3
   },
   "file_extension": ".py",
   "mimetype": "text/x-python",
   "name": "python",
   "nbconvert_exporter": "python",
   "pygments_lexer": "ipython3",
   "version": "3.7.4"
  }
 },
 "nbformat": 4,
 "nbformat_minor": 2
}
